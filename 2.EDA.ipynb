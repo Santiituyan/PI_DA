{
 "cells": [
  {
   "cell_type": "code",
   "execution_count": 2,
   "metadata": {},
   "outputs": [],
   "source": [
    "#importar librerias\n",
    "import pandas as pd\n",
    "import numpy as np\n",
    "import matplotlib.pyplot as plt\n",
    "import seaborn as sns"
   ]
  },
  {
   "cell_type": "markdown",
   "metadata": {},
   "source": [
    "ACCIDENTES"
   ]
  },
  {
   "cell_type": "code",
   "execution_count": 4,
   "metadata": {},
   "outputs": [],
   "source": [
    "#leemos el archivo csv limpio que se utilizara en el analisis\n",
    "df_acc = pd.read_csv(\"csvs\\Accidentes_2000_al_actual.csv\")"
   ]
  },
  {
   "cell_type": "code",
   "execution_count": 5,
   "metadata": {},
   "outputs": [],
   "source": [
    "#Se elimina la columna 'Unnamed: 0'porque no es util para el analisis ya que no aporta nada para la direccion de este analisis\n",
    "df_acc=df_acc.drop(['Unnamed: 0'],axis=1 )"
   ]
  },
  {
   "cell_type": "markdown",
   "metadata": {},
   "source": [
    "REVISION DE DATOS"
   ]
  },
  {
   "cell_type": "code",
   "execution_count": 6,
   "metadata": {},
   "outputs": [
    {
     "data": {
      "text/html": [
       "<div>\n",
       "<style scoped>\n",
       "    .dataframe tbody tr th:only-of-type {\n",
       "        vertical-align: middle;\n",
       "    }\n",
       "\n",
       "    .dataframe tbody tr th {\n",
       "        vertical-align: top;\n",
       "    }\n",
       "\n",
       "    .dataframe thead th {\n",
       "        text-align: right;\n",
       "    }\n",
       "</style>\n",
       "<table border=\"1\" class=\"dataframe\">\n",
       "  <thead>\n",
       "    <tr style=\"text-align: right;\">\n",
       "      <th></th>\n",
       "      <th>total_abordo</th>\n",
       "      <th>pasajeros_abordo</th>\n",
       "      <th>personal_abordo</th>\n",
       "      <th>total_fallecidos</th>\n",
       "      <th>pasajeros_fallecidos</th>\n",
       "      <th>personal_fallecido</th>\n",
       "      <th>anio</th>\n",
       "    </tr>\n",
       "  </thead>\n",
       "  <tbody>\n",
       "    <tr>\n",
       "      <th>0</th>\n",
       "      <td>16</td>\n",
       "      <td>13.0</td>\n",
       "      <td>3.0</td>\n",
       "      <td>1</td>\n",
       "      <td>1.0</td>\n",
       "      <td>0.0</td>\n",
       "      <td>2000</td>\n",
       "    </tr>\n",
       "    <tr>\n",
       "      <th>1</th>\n",
       "      <td>10</td>\n",
       "      <td>7.0</td>\n",
       "      <td>3.0</td>\n",
       "      <td>10</td>\n",
       "      <td>7.0</td>\n",
       "      <td>3.0</td>\n",
       "      <td>2000</td>\n",
       "    </tr>\n",
       "    <tr>\n",
       "      <th>2</th>\n",
       "      <td>41</td>\n",
       "      <td>38.0</td>\n",
       "      <td>3.0</td>\n",
       "      <td>22</td>\n",
       "      <td>21.0</td>\n",
       "      <td>1.0</td>\n",
       "      <td>2000</td>\n",
       "    </tr>\n",
       "    <tr>\n",
       "      <th>3</th>\n",
       "      <td>20</td>\n",
       "      <td>17.0</td>\n",
       "      <td>3.0</td>\n",
       "      <td>5</td>\n",
       "      <td>4.0</td>\n",
       "      <td>1.0</td>\n",
       "      <td>2000</td>\n",
       "    </tr>\n",
       "    <tr>\n",
       "      <th>4</th>\n",
       "      <td>179</td>\n",
       "      <td>169.0</td>\n",
       "      <td>10.0</td>\n",
       "      <td>169</td>\n",
       "      <td>159.0</td>\n",
       "      <td>10.0</td>\n",
       "      <td>2000</td>\n",
       "    </tr>\n",
       "  </tbody>\n",
       "</table>\n",
       "</div>"
      ],
      "text/plain": [
       "   total_abordo  pasajeros_abordo  personal_abordo  total_fallecidos   \n",
       "0            16              13.0              3.0                 1  \\\n",
       "1            10               7.0              3.0                10   \n",
       "2            41              38.0              3.0                22   \n",
       "3            20              17.0              3.0                 5   \n",
       "4           179             169.0             10.0               169   \n",
       "\n",
       "   pasajeros_fallecidos  personal_fallecido  anio  \n",
       "0                   1.0                 0.0  2000  \n",
       "1                   7.0                 3.0  2000  \n",
       "2                  21.0                 1.0  2000  \n",
       "3                   4.0                 1.0  2000  \n",
       "4                 159.0                10.0  2000  "
      ]
     },
     "execution_count": 6,
     "metadata": {},
     "output_type": "execute_result"
    }
   ],
   "source": [
    "#se revisan las columnas\n",
    "df_acc.head()"
   ]
  },
  {
   "cell_type": "code",
   "execution_count": 12,
   "metadata": {},
   "outputs": [
    {
     "data": {
      "text/html": [
       "<div>\n",
       "<style scoped>\n",
       "    .dataframe tbody tr th:only-of-type {\n",
       "        vertical-align: middle;\n",
       "    }\n",
       "\n",
       "    .dataframe tbody tr th {\n",
       "        vertical-align: top;\n",
       "    }\n",
       "\n",
       "    .dataframe thead th {\n",
       "        text-align: right;\n",
       "    }\n",
       "</style>\n",
       "<table border=\"1\" class=\"dataframe\">\n",
       "  <thead>\n",
       "    <tr style=\"text-align: right;\">\n",
       "      <th></th>\n",
       "      <th>total_abordo</th>\n",
       "      <th>pasajeros_abordo</th>\n",
       "      <th>personal_abordo</th>\n",
       "      <th>total_fallecidos</th>\n",
       "      <th>pasajeros_fallecidos</th>\n",
       "      <th>personal_fallecido</th>\n",
       "      <th>year</th>\n",
       "    </tr>\n",
       "  </thead>\n",
       "  <tbody>\n",
       "    <tr>\n",
       "      <th>755</th>\n",
       "      <td>6</td>\n",
       "      <td>5.0</td>\n",
       "      <td>1.0</td>\n",
       "      <td>5</td>\n",
       "      <td>4.0</td>\n",
       "      <td>1.0</td>\n",
       "      <td>2021</td>\n",
       "    </tr>\n",
       "    <tr>\n",
       "      <th>756</th>\n",
       "      <td>11</td>\n",
       "      <td>7.0</td>\n",
       "      <td>4.0</td>\n",
       "      <td>11</td>\n",
       "      <td>7.0</td>\n",
       "      <td>4.0</td>\n",
       "      <td>2021</td>\n",
       "    </tr>\n",
       "    <tr>\n",
       "      <th>757</th>\n",
       "      <td>14</td>\n",
       "      <td>12.0</td>\n",
       "      <td>2.0</td>\n",
       "      <td>12</td>\n",
       "      <td>11.0</td>\n",
       "      <td>1.0</td>\n",
       "      <td>2021</td>\n",
       "    </tr>\n",
       "    <tr>\n",
       "      <th>758</th>\n",
       "      <td>96</td>\n",
       "      <td>88.0</td>\n",
       "      <td>8.0</td>\n",
       "      <td>50</td>\n",
       "      <td>NaN</td>\n",
       "      <td>NaN</td>\n",
       "      <td>2021</td>\n",
       "    </tr>\n",
       "    <tr>\n",
       "      <th>759</th>\n",
       "      <td>28</td>\n",
       "      <td>22.0</td>\n",
       "      <td>6.0</td>\n",
       "      <td>28</td>\n",
       "      <td>22.0</td>\n",
       "      <td>6.0</td>\n",
       "      <td>2021</td>\n",
       "    </tr>\n",
       "  </tbody>\n",
       "</table>\n",
       "</div>"
      ],
      "text/plain": [
       "     total_abordo  pasajeros_abordo  personal_abordo  total_fallecidos   \n",
       "755             6               5.0              1.0                 5  \\\n",
       "756            11               7.0              4.0                11   \n",
       "757            14              12.0              2.0                12   \n",
       "758            96              88.0              8.0                50   \n",
       "759            28              22.0              6.0                28   \n",
       "\n",
       "     pasajeros_fallecidos  personal_fallecido  year  \n",
       "755                   4.0                 1.0  2021  \n",
       "756                   7.0                 4.0  2021  \n",
       "757                  11.0                 1.0  2021  \n",
       "758                   NaN                 NaN  2021  \n",
       "759                  22.0                 6.0  2021  "
      ]
     },
     "execution_count": 12,
     "metadata": {},
     "output_type": "execute_result"
    }
   ],
   "source": [
    "df_acc.tail()"
   ]
  },
  {
   "cell_type": "code",
   "execution_count": 7,
   "metadata": {},
   "outputs": [
    {
     "name": "stdout",
     "output_type": "stream",
     "text": [
      "<class 'pandas.core.frame.DataFrame'>\n",
      "RangeIndex: 760 entries, 0 to 759\n",
      "Data columns (total 7 columns):\n",
      " #   Column                Non-Null Count  Dtype  \n",
      "---  ------                --------------  -----  \n",
      " 0   total_abordo          760 non-null    int64  \n",
      " 1   pasajeros_abordo      744 non-null    float64\n",
      " 2   personal_abordo       743 non-null    float64\n",
      " 3   total_fallecidos      760 non-null    int64  \n",
      " 4   pasajeros_fallecidos  740 non-null    float64\n",
      " 5   personal_fallecido    740 non-null    float64\n",
      " 6   anio                  760 non-null    int64  \n",
      "dtypes: float64(4), int64(3)\n",
      "memory usage: 41.7 KB\n"
     ]
    }
   ],
   "source": [
    "#se observan los tipos de datos\n",
    "df_acc.info()"
   ]
  },
  {
   "cell_type": "markdown",
   "metadata": {},
   "source": [
    "Conversion de tipos de datos"
   ]
  },
  {
   "cell_type": "code",
   "execution_count": 9,
   "metadata": {},
   "outputs": [
    {
     "name": "stdout",
     "output_type": "stream",
     "text": [
      "<class 'pandas.core.frame.DataFrame'>\n",
      "RangeIndex: 760 entries, 0 to 759\n",
      "Data columns (total 7 columns):\n",
      " #   Column                Non-Null Count  Dtype\n",
      "---  ------                --------------  -----\n",
      " 0   total_abordo          760 non-null    int64\n",
      " 1   pasajeros_abordo      744 non-null    Int64\n",
      " 2   personal_abordo       743 non-null    Int64\n",
      " 3   total_fallecidos      760 non-null    int64\n",
      " 4   pasajeros_fallecidos  740 non-null    Int64\n",
      " 5   personal_fallecido    740 non-null    Int64\n",
      " 6   anio                  760 non-null    int64\n",
      "dtypes: Int64(4), int64(3)\n",
      "memory usage: 44.7 KB\n"
     ]
    }
   ],
   "source": [
    "# Convertir las columnas a tipo de dato numérico, manteniendo NaN\n",
    "df_acc['pasajeros_abordo'] = df_acc['pasajeros_abordo'].astype(pd.Int64Dtype())\n",
    "df_acc['personal_abordo'] = df_acc['personal_abordo'].astype(pd.Int64Dtype())\n",
    "df_acc['pasajeros_fallecidos'] = df_acc['pasajeros_fallecidos'].astype(pd.Int64Dtype())\n",
    "df_acc['personal_fallecido'] = df_acc['personal_fallecido'].astype(pd.Int64Dtype())\n",
    "df_acc.info()"
   ]
  },
  {
   "cell_type": "markdown",
   "metadata": {},
   "source": [
    "Revision de nulos"
   ]
  },
  {
   "cell_type": "code",
   "execution_count": 10,
   "metadata": {},
   "outputs": [
    {
     "data": {
      "text/plain": [
       "total_abordo             0\n",
       "pasajeros_abordo        16\n",
       "personal_abordo         17\n",
       "total_fallecidos         0\n",
       "pasajeros_fallecidos    20\n",
       "personal_fallecido      20\n",
       "anio                     0\n",
       "dtype: int64"
      ]
     },
     "execution_count": 10,
     "metadata": {},
     "output_type": "execute_result"
    }
   ],
   "source": [
    "#Se mantienen los nulos porque se consideran necesarios para el analisis ya que la cantidad de fallecidos totales no presenta nulos\n",
    "df_acc.isnull().sum()"
   ]
  },
  {
   "cell_type": "markdown",
   "metadata": {},
   "source": [
    "ANALISIS ARCHIVO ORIGINAL"
   ]
  },
  {
   "cell_type": "markdown",
   "metadata": {},
   "source": [
    "Este analisis se va a enfocar solo en los datos enteros en el conteo de pasajeros y victimas por cada año para poder clasificar los datos por decadas y visualizar el cumplimiento del KPI propuesto de la reduccion del 10% en la tasa de fatalidad de los accidentes"
   ]
  },
  {
   "cell_type": "code",
   "execution_count": 15,
   "metadata": {},
   "outputs": [],
   "source": [
    "report = pd.read_csv(\"csvs\\AccidentesAviones.csv\")"
   ]
  },
  {
   "cell_type": "code",
   "execution_count": 16,
   "metadata": {},
   "outputs": [
    {
     "data": {
      "text/html": [
       "<div>\n",
       "<style scoped>\n",
       "    .dataframe tbody tr th:only-of-type {\n",
       "        vertical-align: middle;\n",
       "    }\n",
       "\n",
       "    .dataframe tbody tr th {\n",
       "        vertical-align: top;\n",
       "    }\n",
       "\n",
       "    .dataframe thead th {\n",
       "        text-align: right;\n",
       "    }\n",
       "</style>\n",
       "<table border=\"1\" class=\"dataframe\">\n",
       "  <thead>\n",
       "    <tr style=\"text-align: right;\">\n",
       "      <th></th>\n",
       "      <th>Unnamed: 0</th>\n",
       "      <th>fecha</th>\n",
       "      <th>HORA declarada</th>\n",
       "      <th>Ruta</th>\n",
       "      <th>OperadOR</th>\n",
       "      <th>flight_no</th>\n",
       "      <th>route</th>\n",
       "      <th>ac_type</th>\n",
       "      <th>registration</th>\n",
       "      <th>cn_ln</th>\n",
       "      <th>all_aboard</th>\n",
       "      <th>PASAJEROS A BORDO</th>\n",
       "      <th>crew_aboard</th>\n",
       "      <th>cantidad de fallecidos</th>\n",
       "      <th>passenger_fatalities</th>\n",
       "      <th>crew_fatalities</th>\n",
       "      <th>ground</th>\n",
       "      <th>summary</th>\n",
       "    </tr>\n",
       "  </thead>\n",
       "  <tbody>\n",
       "    <tr>\n",
       "      <th>0</th>\n",
       "      <td>0</td>\n",
       "      <td>September 17, 1908</td>\n",
       "      <td>1718</td>\n",
       "      <td>Fort Myer, Virginia</td>\n",
       "      <td>Military - U.S. Army</td>\n",
       "      <td>?</td>\n",
       "      <td>Demonstration</td>\n",
       "      <td>Wright Flyer III</td>\n",
       "      <td>?</td>\n",
       "      <td>1</td>\n",
       "      <td>2</td>\n",
       "      <td>1</td>\n",
       "      <td>1</td>\n",
       "      <td>1</td>\n",
       "      <td>1</td>\n",
       "      <td>0</td>\n",
       "      <td>0</td>\n",
       "      <td>During a demonstration flight, a U.S. Army fly...</td>\n",
       "    </tr>\n",
       "    <tr>\n",
       "      <th>1</th>\n",
       "      <td>1</td>\n",
       "      <td>September 07, 1909</td>\n",
       "      <td>?</td>\n",
       "      <td>Juvisy-sur-Orge, France</td>\n",
       "      <td>?</td>\n",
       "      <td>?</td>\n",
       "      <td>Air show</td>\n",
       "      <td>Wright Byplane</td>\n",
       "      <td>SC1</td>\n",
       "      <td>?</td>\n",
       "      <td>1</td>\n",
       "      <td>0</td>\n",
       "      <td>1</td>\n",
       "      <td>1</td>\n",
       "      <td>0</td>\n",
       "      <td>0</td>\n",
       "      <td>0</td>\n",
       "      <td>Eugene Lefebvre was the first pilot to ever be...</td>\n",
       "    </tr>\n",
       "    <tr>\n",
       "      <th>2</th>\n",
       "      <td>2</td>\n",
       "      <td>July 12, 1912</td>\n",
       "      <td>0630</td>\n",
       "      <td>Atlantic City, New Jersey</td>\n",
       "      <td>Military - U.S. Navy</td>\n",
       "      <td>?</td>\n",
       "      <td>Test flight</td>\n",
       "      <td>Dirigible</td>\n",
       "      <td>?</td>\n",
       "      <td>?</td>\n",
       "      <td>5</td>\n",
       "      <td>0</td>\n",
       "      <td>5</td>\n",
       "      <td>5</td>\n",
       "      <td>0</td>\n",
       "      <td>5</td>\n",
       "      <td>0</td>\n",
       "      <td>First U.S. dirigible Akron exploded just offsh...</td>\n",
       "    </tr>\n",
       "    <tr>\n",
       "      <th>3</th>\n",
       "      <td>3</td>\n",
       "      <td>August 06, 1913</td>\n",
       "      <td>?</td>\n",
       "      <td>Victoria, British Columbia, Canada</td>\n",
       "      <td>Private</td>\n",
       "      <td>?</td>\n",
       "      <td>?</td>\n",
       "      <td>Curtiss seaplane</td>\n",
       "      <td>?</td>\n",
       "      <td>?</td>\n",
       "      <td>1</td>\n",
       "      <td>0</td>\n",
       "      <td>1</td>\n",
       "      <td>1</td>\n",
       "      <td>0</td>\n",
       "      <td>1</td>\n",
       "      <td>0</td>\n",
       "      <td>The first fatal airplane accident in Canada oc...</td>\n",
       "    </tr>\n",
       "    <tr>\n",
       "      <th>4</th>\n",
       "      <td>4</td>\n",
       "      <td>September 09, 1913</td>\n",
       "      <td>1830</td>\n",
       "      <td>Over the North Sea</td>\n",
       "      <td>Military - German Navy</td>\n",
       "      <td>?</td>\n",
       "      <td>?</td>\n",
       "      <td>Zeppelin L-1 (airship)</td>\n",
       "      <td>?</td>\n",
       "      <td>?</td>\n",
       "      <td>20</td>\n",
       "      <td>?</td>\n",
       "      <td>?</td>\n",
       "      <td>14</td>\n",
       "      <td>?</td>\n",
       "      <td>?</td>\n",
       "      <td>0</td>\n",
       "      <td>The airship flew into a thunderstorm and encou...</td>\n",
       "    </tr>\n",
       "  </tbody>\n",
       "</table>\n",
       "</div>"
      ],
      "text/plain": [
       "   Unnamed: 0               fecha HORA declarada   \n",
       "0           0  September 17, 1908           1718  \\\n",
       "1           1  September 07, 1909              ?   \n",
       "2           2       July 12, 1912           0630   \n",
       "3           3     August 06, 1913              ?   \n",
       "4           4  September 09, 1913           1830   \n",
       "\n",
       "                                 Ruta                OperadOR flight_no   \n",
       "0                 Fort Myer, Virginia    Military - U.S. Army         ?  \\\n",
       "1             Juvisy-sur-Orge, France                       ?         ?   \n",
       "2           Atlantic City, New Jersey    Military - U.S. Navy         ?   \n",
       "3  Victoria, British Columbia, Canada                 Private         ?   \n",
       "4                  Over the North Sea  Military - German Navy         ?   \n",
       "\n",
       "           route                 ac_type registration cn_ln all_aboard   \n",
       "0  Demonstration        Wright Flyer III            ?     1          2  \\\n",
       "1       Air show          Wright Byplane          SC1     ?          1   \n",
       "2    Test flight               Dirigible            ?     ?          5   \n",
       "3              ?        Curtiss seaplane            ?     ?          1   \n",
       "4              ?  Zeppelin L-1 (airship)            ?     ?         20   \n",
       "\n",
       "  PASAJEROS A BORDO crew_aboard cantidad de fallecidos passenger_fatalities   \n",
       "0                 1           1                      1                    1  \\\n",
       "1                 0           1                      1                    0   \n",
       "2                 0           5                      5                    0   \n",
       "3                 0           1                      1                    0   \n",
       "4                 ?           ?                     14                    ?   \n",
       "\n",
       "  crew_fatalities ground                                            summary  \n",
       "0               0      0  During a demonstration flight, a U.S. Army fly...  \n",
       "1               0      0  Eugene Lefebvre was the first pilot to ever be...  \n",
       "2               5      0  First U.S. dirigible Akron exploded just offsh...  \n",
       "3               1      0  The first fatal airplane accident in Canada oc...  \n",
       "4               ?      0  The airship flew into a thunderstorm and encou...  "
      ]
     },
     "execution_count": 16,
     "metadata": {},
     "output_type": "execute_result"
    }
   ],
   "source": [
    "report.head()"
   ]
  },
  {
   "cell_type": "code",
   "execution_count": 17,
   "metadata": {},
   "outputs": [],
   "source": [
    "#eliminamos las columnas que no vamos a usar, ya que solo vamos a utilizar los datos enteros de conteo de victimas para analizar el cumplimiento del 10% de reduccion de la tasa de fatalidad\n",
    "report.drop(columns=['Unnamed: 0', 'flight_no', 'registration', 'cn_ln', 'ground', 'summary','route','HORA declarada', 'ac_type','OperadOR'], inplace=True)"
   ]
  },
  {
   "cell_type": "code",
   "execution_count": 18,
   "metadata": {},
   "outputs": [],
   "source": [
    "#se separa el año en una columna aparte\n",
    "report[\"year\"] = pd.to_datetime(report[\"fecha\"]).dt.year"
   ]
  },
  {
   "cell_type": "code",
   "execution_count": 19,
   "metadata": {},
   "outputs": [],
   "source": [
    "#se le da formato a la fecha\n",
    "report['fecha'] = pd.to_datetime(report['fecha'], format='%B %d, %Y')"
   ]
  },
  {
   "cell_type": "markdown",
   "metadata": {},
   "source": [
    "la razon de esto es para facilitar la clasificacion de los datos por los años y agrupar los datos por decadas"
   ]
  },
  {
   "cell_type": "code",
   "execution_count": 20,
   "metadata": {},
   "outputs": [],
   "source": [
    "#para no eliminar datos se reemplazan los '?' por np.nan\n",
    "report = report.replace(to_replace=\"?\", value=np.nan)"
   ]
  },
  {
   "cell_type": "code",
   "execution_count": 21,
   "metadata": {},
   "outputs": [],
   "source": [
    "report.reset_index(drop=True, inplace=True)"
   ]
  },
  {
   "cell_type": "code",
   "execution_count": 22,
   "metadata": {},
   "outputs": [],
   "source": [
    "#se renombran las columnas para mejorar la comprension\n",
    "report = report.rename(columns={'all_aboard': 'total_abordo', 'PASAJEROS A BORDO': 'pasajeros_abordo',\n",
    "                                'crew_aboard' : 'personal_abordo','cantidad de fallecidos':'total_fallecidos',\n",
    "                                'passenger_fatalities' :'pasajeros_fallecidos', 'crew_fatalities':'personal_fallecido','year':'anio','Ruta':'ruta'})"
   ]
  },
  {
   "cell_type": "code",
   "execution_count": 23,
   "metadata": {},
   "outputs": [
    {
     "data": {
      "text/html": [
       "<div>\n",
       "<style scoped>\n",
       "    .dataframe tbody tr th:only-of-type {\n",
       "        vertical-align: middle;\n",
       "    }\n",
       "\n",
       "    .dataframe tbody tr th {\n",
       "        vertical-align: top;\n",
       "    }\n",
       "\n",
       "    .dataframe thead th {\n",
       "        text-align: right;\n",
       "    }\n",
       "</style>\n",
       "<table border=\"1\" class=\"dataframe\">\n",
       "  <thead>\n",
       "    <tr style=\"text-align: right;\">\n",
       "      <th></th>\n",
       "      <th>fecha</th>\n",
       "      <th>ruta</th>\n",
       "      <th>total_abordo</th>\n",
       "      <th>pasajeros_abordo</th>\n",
       "      <th>personal_abordo</th>\n",
       "      <th>total_fallecidos</th>\n",
       "      <th>pasajeros_fallecidos</th>\n",
       "      <th>personal_fallecido</th>\n",
       "      <th>anio</th>\n",
       "    </tr>\n",
       "  </thead>\n",
       "  <tbody>\n",
       "    <tr>\n",
       "      <th>0</th>\n",
       "      <td>1908-09-17</td>\n",
       "      <td>Fort Myer, Virginia</td>\n",
       "      <td>2</td>\n",
       "      <td>1</td>\n",
       "      <td>1</td>\n",
       "      <td>1</td>\n",
       "      <td>1</td>\n",
       "      <td>0</td>\n",
       "      <td>1908</td>\n",
       "    </tr>\n",
       "    <tr>\n",
       "      <th>1</th>\n",
       "      <td>1909-09-07</td>\n",
       "      <td>Juvisy-sur-Orge, France</td>\n",
       "      <td>1</td>\n",
       "      <td>0</td>\n",
       "      <td>1</td>\n",
       "      <td>1</td>\n",
       "      <td>0</td>\n",
       "      <td>0</td>\n",
       "      <td>1909</td>\n",
       "    </tr>\n",
       "    <tr>\n",
       "      <th>2</th>\n",
       "      <td>1912-07-12</td>\n",
       "      <td>Atlantic City, New Jersey</td>\n",
       "      <td>5</td>\n",
       "      <td>0</td>\n",
       "      <td>5</td>\n",
       "      <td>5</td>\n",
       "      <td>0</td>\n",
       "      <td>5</td>\n",
       "      <td>1912</td>\n",
       "    </tr>\n",
       "    <tr>\n",
       "      <th>3</th>\n",
       "      <td>1913-08-06</td>\n",
       "      <td>Victoria, British Columbia, Canada</td>\n",
       "      <td>1</td>\n",
       "      <td>0</td>\n",
       "      <td>1</td>\n",
       "      <td>1</td>\n",
       "      <td>0</td>\n",
       "      <td>1</td>\n",
       "      <td>1913</td>\n",
       "    </tr>\n",
       "    <tr>\n",
       "      <th>4</th>\n",
       "      <td>1913-09-09</td>\n",
       "      <td>Over the North Sea</td>\n",
       "      <td>20</td>\n",
       "      <td>NaN</td>\n",
       "      <td>NaN</td>\n",
       "      <td>14</td>\n",
       "      <td>NaN</td>\n",
       "      <td>NaN</td>\n",
       "      <td>1913</td>\n",
       "    </tr>\n",
       "  </tbody>\n",
       "</table>\n",
       "</div>"
      ],
      "text/plain": [
       "       fecha                                ruta total_abordo   \n",
       "0 1908-09-17                 Fort Myer, Virginia            2  \\\n",
       "1 1909-09-07             Juvisy-sur-Orge, France            1   \n",
       "2 1912-07-12           Atlantic City, New Jersey            5   \n",
       "3 1913-08-06  Victoria, British Columbia, Canada            1   \n",
       "4 1913-09-09                  Over the North Sea           20   \n",
       "\n",
       "  pasajeros_abordo personal_abordo total_fallecidos pasajeros_fallecidos   \n",
       "0                1               1                1                    1  \\\n",
       "1                0               1                1                    0   \n",
       "2                0               5                5                    0   \n",
       "3                0               1                1                    0   \n",
       "4              NaN             NaN               14                  NaN   \n",
       "\n",
       "  personal_fallecido  anio  \n",
       "0                  0  1908  \n",
       "1                  0  1909  \n",
       "2                  5  1912  \n",
       "3                  1  1913  \n",
       "4                NaN  1913  "
      ]
     },
     "execution_count": 23,
     "metadata": {},
     "output_type": "execute_result"
    }
   ],
   "source": [
    "report.head()"
   ]
  },
  {
   "cell_type": "markdown",
   "metadata": {},
   "source": [
    "## Estadistica Descriptiva"
   ]
  },
  {
   "cell_type": "code",
   "execution_count": 26,
   "metadata": {},
   "outputs": [
    {
     "name": "stdout",
     "output_type": "stream",
     "text": [
      "<class 'pandas.core.frame.DataFrame'>\n",
      "RangeIndex: 5008 entries, 0 to 5007\n",
      "Data columns (total 9 columns):\n",
      " #   Column                Non-Null Count  Dtype         \n",
      "---  ------                --------------  -----         \n",
      " 0   fecha                 5008 non-null   datetime64[ns]\n",
      " 1   ruta                  5003 non-null   object        \n",
      " 2   total_abordo          4991 non-null   Int64         \n",
      " 3   pasajeros_abordo      4787 non-null   Int64         \n",
      " 4   personal_abordo       4789 non-null   Int64         \n",
      " 5   total_fallecidos      5000 non-null   Int64         \n",
      " 6   pasajeros_fallecidos  4773 non-null   Int64         \n",
      " 7   personal_fallecido    4773 non-null   Int64         \n",
      " 8   anio                  5008 non-null   int32         \n",
      "dtypes: Int64(6), datetime64[ns](1), int32(1), object(1)\n",
      "memory usage: 362.0+ KB\n"
     ]
    }
   ],
   "source": [
    "# Convertir las columnas a tipo de dato numérico, manteniendo NaN\n",
    "report['pasajeros_abordo'] = report['pasajeros_abordo'].astype(pd.Int64Dtype())\n",
    "report['personal_abordo'] = report['personal_abordo'].astype(pd.Int64Dtype())\n",
    "report['pasajeros_fallecidos'] = report['pasajeros_fallecidos'].astype(pd.Int64Dtype())\n",
    "report['personal_fallecido'] = report['personal_fallecido'].astype(pd.Int64Dtype())\n",
    "report['total_fallecidos'] = report['total_fallecidos'].astype(pd.Int64Dtype())\n",
    "report['total_abordo'] = report['total_abordo'].astype(pd.Int64Dtype())\n",
    "report.info()"
   ]
  },
  {
   "cell_type": "markdown",
   "metadata": {},
   "source": [
    "al consultar los datos vemos que son:\n",
    "- Variables Cuantitavias discretas: numero de pasajeros totales y numero de victimas totales.\n",
    "- Variables Cuantitativas continuas: fecha\n",
    "- Variables Cualitativas Nominales: ruta"
   ]
  },
  {
   "cell_type": "markdown",
   "metadata": {},
   "source": [
    "Variables Graficadas"
   ]
  },
  {
   "cell_type": "code",
   "execution_count": 31,
   "metadata": {},
   "outputs": [],
   "source": [
    "# Extraer el año de la fecha y calcular la década\n",
    "report['decada'] = (report['fecha'].dt.year // 10) * 10\n",
    "\n",
    "# Contar la cantidad de accidentes por década\n",
    "conteo_por_decada = report['decada'].value_counts().sort_index()"
   ]
  },
  {
   "cell_type": "code",
   "execution_count": 113,
   "metadata": {},
   "outputs": [
    {
     "data": {
      "image/png": "[encoded data removed]",
      "text/plain": [
       "<Figure size 2000x1000 with 3 Axes>"
      ]
     },
     "metadata": {},
     "output_type": "display_data"
    }
   ],
   "source": [
    "# Crear el gráfico\n",
    "plt.figure(figsize=(20, 10))\n",
    "\n",
    "# Subplot 1: Count plot para los meses de la columna fecha\n",
    "plt.subplot(2, 2, 1)  \n",
    "sns.countplot(x=report['fecha'].dt.month,color=\"blue\" )\n",
    "plt.title('accidentes por mes')\n",
    "plt.xlabel('Mes')\n",
    "plt.ylabel('Cantidad')\n",
    "\n",
    "# Subplot 2: Count plot para los dias de la semana\n",
    "plt.subplot(2, 2, 2)  \n",
    "sns.countplot(x=report['fecha'].dt.dayofweek,color=\"green\")\n",
    "plt.title('accidentes por día de la semana')\n",
    "plt.xlabel('Día de la semana')\n",
    "plt.ylabel('Cantidad')\n",
    "\n",
    "# Subplot 3: Gráfico de barras que muestra la cantidad de accidentes por década\n",
    "plt.subplot(2, 2, 3)\n",
    "conteo_por_decada = report['decada'].value_counts().sort_index()\n",
    "sns.barplot(x=conteo_por_decada.index, y=conteo_por_decada.values, color=\"blue\")\n",
    "plt.title('Accidentes Aéreos por Década')\n",
    "plt.xlabel('Década')\n",
    "plt.ylabel('Cantidad de Accidentes')\n",
    "\n",
    "# Ajustar el espacio entre los subplots\n",
    "plt.tight_layout()\n",
    "\n",
    "# Mostrar el gráfico\n",
    "plt.show()"
   ]
  },
  {
   "cell_type": "markdown",
   "metadata": {},
   "source": [
    "## Detección y Tratamiento de Outliers"
   ]
  },
  {
   "cell_type": "code",
   "execution_count": 28,
   "metadata": {},
   "outputs": [
    {
     "data": {
      "text/plain": [
       "<seaborn.axisgrid.FacetGrid at 0x1ece166e710>"
      ]
     },
     "execution_count": 28,
     "metadata": {},
     "output_type": "execute_result"
    },
    {
     "data": {
      "image/png": "[encoded data removed]",
      "text/plain": [
       "<Figure size 500x500 with 1 Axes>"
      ]
     },
     "metadata": {},
     "output_type": "display_data"
    }
   ],
   "source": [
    "# Revisamos la distribución de la data anio pare detectar si tenemos valores atipicos\n",
    "sns.catplot(y=\"anio\", kind='box' , data= report)"
   ]
  },
  {
   "cell_type": "markdown",
   "metadata": {},
   "source": [
    "De acuerdo al grafico anterior vemos que no tenemos valores atípicos en el grafico"
   ]
  },
  {
   "cell_type": "code",
   "execution_count": 35,
   "metadata": {},
   "outputs": [
    {
     "data": {
      "image/png": "[encoded data removed]",
      "text/plain": [
       "<Figure size 500x500 with 1 Axes>"
      ]
     },
     "metadata": {},
     "output_type": "display_data"
    }
   ],
   "source": [
    "# Agrupar los datos por década y sumar las víctimas\n",
    "sum_victimas_por_decada = report.groupby('decada')['total_fallecidos'].sum().reset_index()\n",
    "# Revisamos las victimas clasificadas por decada\n",
    "sns.catplot(x=\"total_fallecidos\", y=\"decada\", kind='box', data=sum_victimas_por_decada)\n",
    "plt.show()"
   ]
  },
  {
   "cell_type": "markdown",
   "metadata": {},
   "source": [
    "podemos ver que el pico más alto en la historia fue en la decada de 1970 con la mayor cantidad de victimas fatales"
   ]
  }
 ],
 "metadata": {
  "kernelspec": {
   "display_name": "Python 3",
   "language": "python",
   "name": "python3"
  },
  "language_info": {
   "codemirror_mode": {
    "name": "ipython",
    "version": 3
   },
   "file_extension": ".py",
   "mimetype": "text/x-python",
   "name": "python",
   "nbconvert_exporter": "python",
   "pygments_lexer": "ipython3",
   "version": "3.10.8"
  }
 },
 "nbformat": 4,
 "nbformat_minor": 2
}
